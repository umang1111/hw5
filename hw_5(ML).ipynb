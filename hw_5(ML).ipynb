{
  "nbformat": 4,
  "nbformat_minor": 0,
  "metadata": {
    "colab": {
      "name": "hw_5(ML).ipynb",
      "private_outputs": true,
      "provenance": [],
      "authorship_tag": "ABX9TyMpQ1xEGGfSR9bMKuBnP4Qo",
      "include_colab_link": true
    },
    "kernelspec": {
      "name": "python3",
      "display_name": "Python 3"
    },
    "language_info": {
      "name": "python"
    }
  },
  "cells": [
    {
      "cell_type": "markdown",
      "metadata": {
        "id": "view-in-github",
        "colab_type": "text"
      },
      "source": [
        "<a href=\"https://colab.research.google.com/github/umang1111/hw5/blob/main/hw_5(ML).ipynb\" target=\"_parent\"><img src=\"https://colab.research.google.com/assets/colab-badge.svg\" alt=\"Open In Colab\"/></a>"
      ]
    },
    {
      "cell_type": "markdown",
      "metadata": {
        "id": "3tQ_sMphlQF2"
      },
      "source": [
        "# New Section"
      ]
    },
    {
      "cell_type": "code",
      "metadata": {
        "id": "HAiRaxONndDO"
      },
      "source": [
        "!pip install surprise"
      ],
      "execution_count": null,
      "outputs": []
    },
    {
      "cell_type": "code",
      "metadata": {
        "id": "DhbEs9U2lmr6"
      },
      "source": [
        "import numpy as np \n",
        "import pandas as pd \n",
        "import matplotlib.pyplot as plt\n"
      ],
      "execution_count": null,
      "outputs": []
    },
    {
      "cell_type": "code",
      "metadata": {
        "id": "ilIxLxUYmq6J"
      },
      "source": [
        "import numpy as np \n",
        "import pandas as pd \n",
        "import matplotlib.pyplot as plt\n",
        "from surprise import KNNBasic, SVD, Reader, accuracy, Dataset\n",
        "from surprise.model_selection import cross_validate, train_test_split\n",
        "%matplotlib inline"
      ],
      "execution_count": null,
      "outputs": []
    },
    {
      "cell_type": "code",
      "metadata": {
        "id": "zpNMNBZml1os"
      },
      "source": [
        "import numpy as np\n",
        "import pandas as pd\n",
        "\n",
        "from surprise import SVD, Dataset, Reader\n",
        "from surprise.model_selection import cross_validate\n",
        "\n",
        "import matplotlib.pyplot as plt"
      ],
      "execution_count": null,
      "outputs": []
    },
    {
      "cell_type": "markdown",
      "metadata": {
        "id": "h9mWpH-bl4Be"
      },
      "source": [
        "read data"
      ]
    },
    {
      "cell_type": "code",
      "metadata": {
        "id": "FJXQdCe3lnr9"
      },
      "source": [
        "ratings = pd.read_csv('ratings_small.csv')\n",
        "ratings"
      ],
      "execution_count": null,
      "outputs": []
    },
    {
      "cell_type": "code",
      "metadata": {
        "id": "RSYRT26Uotas"
      },
      "source": [
        "\n",
        "\n",
        "ratings = ratings[['userId', 'movieId', 'rating']]\n",
        "ratings\n",
        "\n"
      ],
      "execution_count": null,
      "outputs": []
    },
    {
      "cell_type": "markdown",
      "metadata": {
        "id": "4Ha-Jf7emanI"
      },
      "source": [
        "performance evaluation\n",
        "\n",
        "probability mass function\n",
        "\n"
      ]
    },
    {
      "cell_type": "code",
      "metadata": {
        "id": "26CxI5mXocZ4"
      },
      "source": [
        "reader = Reader()\n",
        "data = Dataset.load_from_df(ratings[['userId', 'movieId', 'rating']], reader)"
      ],
      "execution_count": null,
      "outputs": []
    },
    {
      "cell_type": "code",
      "metadata": {
        "id": "yuxjvPN5pD_M"
      },
      "source": [
        "\n",
        "\n",
        "pmf_svd = SVD(biased = False)\n",
        "cv_pmf = cross_validate(pmf_svd, data, measures=['RMSE', 'MAE'], cv=5, verbose=True);\n",
        "\n"
      ],
      "execution_count": null,
      "outputs": []
    },
    {
      "cell_type": "code",
      "metadata": {
        "id": "PM0hd4ypp5SS"
      },
      "source": [
        "cv_pmf"
      ],
      "execution_count": null,
      "outputs": []
    },
    {
      "cell_type": "code",
      "metadata": {
        "id": "zY5EbQKGp9PN"
      },
      "source": [
        "\n",
        "\n",
        "print('Average MAE for PMF Collaborative Filtering: ', cv_pmf['test_mae'].mean())\n",
        "print('Average RMSE for PMF Collaborative Filtering: ', cv_pmf['test_rmse'].mean())\n",
        "\n"
      ],
      "execution_count": null,
      "outputs": []
    },
    {
      "cell_type": "markdown",
      "metadata": {
        "id": "ae5QCFv_rEP0"
      },
      "source": [
        "user based cf"
      ]
    },
    {
      "cell_type": "code",
      "metadata": {
        "id": "hppkSqmErCTK"
      },
      "source": [
        "\n",
        "\n",
        "sim_options = {'user_based': True}\n",
        "user_based_cf = KNNBasic(sim_options=sim_options)\n",
        "cv_ub = cross_validate(user_based_cf, data, measures=['RMSE', 'MAE'], cv=5, verbose=True);\n",
        "\n"
      ],
      "execution_count": null,
      "outputs": []
    },
    {
      "cell_type": "code",
      "metadata": {
        "id": "WjHmxr6DrU9b"
      },
      "source": [
        "print('Average MAE for User-based Collaborative Filtering: ', cv_ub['test_mae'].mean())\n",
        "print('Average RMSE for User-based Collaborative Filtering: ', cv_ub['test_rmse'].mean())"
      ],
      "execution_count": null,
      "outputs": []
    },
    {
      "cell_type": "markdown",
      "metadata": {
        "id": "6xXP6bbQrafx"
      },
      "source": [
        "Item based CF"
      ]
    },
    {
      "cell_type": "code",
      "metadata": {
        "id": "Vx6dOaIirgTL"
      },
      "source": [
        "\n",
        "\n",
        "sim_options = {'user_based': False}\n",
        "item_based_cf = KNNBasic(sim_options=sim_options)\n",
        "cv_ib = cross_validate(item_based_cf, data, measures=['RMSE', 'MAE'], cv=5, verbose=True);\n",
        "\n"
      ],
      "execution_count": null,
      "outputs": []
    },
    {
      "cell_type": "code",
      "metadata": {
        "id": "mPIg5PBXrq15"
      },
      "source": [
        "print('Average MAE for Item-based Collaborative Filtering: ', cv_ib['test_mae'].mean())\n",
        "print('Average RMSE for Item-based Collaborative Filtering: ', cv_ib['test_rmse'].mean())"
      ],
      "execution_count": null,
      "outputs": []
    },
    {
      "cell_type": "markdown",
      "metadata": {
        "id": "G-DL0SAMrzXo"
      },
      "source": [
        "Comparison of similarity metrics\n",
        "\n",
        "\n",
        "User-based CF\n",
        "\n",
        "cosine"
      ]
    },
    {
      "cell_type": "code",
      "metadata": {
        "id": "iJ4AQMDlr7in"
      },
      "source": [
        "\n",
        "\n",
        "sim_options = {'name':'cosine', 'user_based': True}\n",
        "ub_cosine = KNNBasic(sim_options=sim_options);\n",
        "cv_ub_cosine = cross_validate(ub_cosine, data, measures=['RMSE', 'MAE'], cv=5, verbose=True);\n",
        "\n"
      ],
      "execution_count": null,
      "outputs": []
    },
    {
      "cell_type": "markdown",
      "metadata": {
        "id": "fCGN2yn_sEzs"
      },
      "source": [
        "# \n",
        "MSD"
      ]
    },
    {
      "cell_type": "code",
      "metadata": {
        "id": "QBPmmEvesHWC"
      },
      "source": [
        "sim_options = {'name':'msd', 'user_based': True}\n",
        "ub_msd = KNNBasic(sim_options=sim_options);\n",
        "cv_ub_msd = cross_validate(ub_msd, data, measures=['RMSE', 'MAE'], cv=5, verbose=True);"
      ],
      "execution_count": null,
      "outputs": []
    },
    {
      "cell_type": "markdown",
      "metadata": {
        "id": "ccs2gWNLsQzR"
      },
      "source": [
        "Pearson"
      ]
    },
    {
      "cell_type": "code",
      "metadata": {
        "id": "_D5lYQPCsPUY"
      },
      "source": [
        "sim_options = {'name':'pearson', 'user_based': True}\n",
        "ub_pearson = KNNBasic(sim_options=sim_options);\n",
        "cv_ub_pearson = cross_validate(ub_pearson, data, measures=['RMSE', 'MAE'], cv=5, verbose=True);"
      ],
      "execution_count": null,
      "outputs": []
    },
    {
      "cell_type": "markdown",
      "metadata": {
        "id": "-zKca-rEsbxA"
      },
      "source": [
        "# OBSERVATION"
      ]
    },
    {
      "cell_type": "code",
      "metadata": {
        "id": "FwpwnL-osWNa"
      },
      "source": [
        "x = [0,1,2]\n",
        "y_mae = [cv_ub_cosine['test_mae'].mean(),cv_ub_msd['test_mae'].mean(),cv_ub_pearson['test_mae'].mean()]\n",
        "y_rmse = [cv_ub_cosine['test_rmse'].mean(),cv_ub_msd['test_rmse'].mean(),cv_ub_pearson['test_rmse'].mean()]\n",
        "plt.plot(x, y_mae)\n",
        "plt.plot(x, y_rmse)\n",
        "plt.title('User-based Collaborative Filtering(With 5-fold CV)')\n",
        "plt.legend(['MAE','RMSE'])\n",
        "plt.xticks(x,['Cosine','MSD','Pearson'])\n",
        "plt.xlabel('Similarity')\n",
        "plt.ylabel('Average Test(MAE & RMSE)')\n",
        "plt.show()"
      ],
      "execution_count": null,
      "outputs": []
    },
    {
      "cell_type": "markdown",
      "metadata": {
        "id": "Q6aIARBnsp3-"
      },
      "source": [
        "Item-based CF\n",
        "\n",
        "\n",
        "Cosine"
      ]
    },
    {
      "cell_type": "code",
      "metadata": {
        "id": "vvW7dGJssg4x"
      },
      "source": [
        "sim_options = {'name':'cosine', 'user_based': False}\n",
        "ib_cosine = KNNBasic(sim_options=sim_options);\n",
        "cv_ib_cosine = cross_validate(ib_cosine, data, measures=['RMSE', 'MAE'], cv=5, verbose=True);"
      ],
      "execution_count": null,
      "outputs": []
    },
    {
      "cell_type": "markdown",
      "metadata": {
        "id": "pJb4q_ncuB1w"
      },
      "source": [
        "MSD"
      ]
    },
    {
      "cell_type": "code",
      "metadata": {
        "id": "nwBUw77WuELl"
      },
      "source": [
        "sim_options = {'name':'msd', 'user_based': False}\n",
        "ib_msd = KNNBasic(sim_options=sim_options);\n",
        "cv_ib_msd = cross_validate(ib_msd, data, measures=['RMSE', 'MAE'], cv=5, verbose=True);"
      ],
      "execution_count": null,
      "outputs": []
    },
    {
      "cell_type": "markdown",
      "metadata": {
        "id": "3MAoFDRYulBQ"
      },
      "source": [
        "pearson"
      ]
    },
    {
      "cell_type": "code",
      "metadata": {
        "id": "a0RQ_bAdurc8"
      },
      "source": [
        "\n",
        "\n",
        "sim_options = {'name':'pearson', 'user_based': False}\n",
        "ib_pearson = KNNBasic(sim_options=sim_options);\n",
        "cv_ib_pearson = cross_validate(ib_pearson, data, measures=['RMSE', 'MAE'], cv=5, verbose=True);\n",
        "\n"
      ],
      "execution_count": null,
      "outputs": []
    },
    {
      "cell_type": "markdown",
      "metadata": {
        "id": "Otj1I7TWvVIe"
      },
      "source": [
        "observation"
      ]
    },
    {
      "cell_type": "code",
      "metadata": {
        "id": "BGgRl8euvQ4l"
      },
      "source": [
        "x = [0,1,2]\n",
        "y_mae = [cv_ib_cosine['test_mae'].mean(),cv_ib_msd['test_mae'].mean(),cv_ib_pearson['test_mae'].mean()]\n",
        "y_rmse = [cv_ib_cosine['test_rmse'].mean(),cv_ib_msd['test_rmse'].mean(),cv_ib_pearson['test_rmse'].mean()]\n",
        "plt.plot(x, y_mae)\n",
        "plt.plot(x, y_rmse)\n",
        "plt.title('Item-based Collaborative Filtering(With 5-fold CV)')\n",
        "plt.legend(['MAE','RMSE'])\n",
        "plt.xticks(x,['Cosine','MSD','Pearson'])\n",
        "plt.xlabel('Similarity')\n",
        "plt.ylabel('Average Test(MAE & RMSE)')\n",
        "plt.show()"
      ],
      "execution_count": null,
      "outputs": []
    },
    {
      "cell_type": "markdown",
      "metadata": {
        "id": "Ij0VgNrXv-_I"
      },
      "source": [
        "\n",
        "Impact of Number of neighbours on mode\n"
      ]
    },
    {
      "cell_type": "code",
      "metadata": {
        "id": "azoAJwP4wIp4"
      },
      "source": [
        "trainset, testset = train_test_split(data, test_size = 0.25, random_state = 42)"
      ],
      "execution_count": null,
      "outputs": []
    },
    {
      "cell_type": "markdown",
      "metadata": {
        "id": "8NgNhLaawPaQ"
      },
      "source": [
        "User-based CF"
      ]
    },
    {
      "cell_type": "code",
      "metadata": {
        "id": "u9Yl8yG7wMU2"
      },
      "source": [
        "ubc_nn_mae = []\n",
        "ubc_nn_rmse = []\n",
        "k1 = list(np.arange(1,100,1))\n",
        "for i in k1:\n",
        "  ubc_nn = KNNBasic(k = i, sim_options = {'user_based' : True})\n",
        "  ubc_nn.fit(trainset)\n",
        "  predictions = ubc_nn.test(testset)\n",
        "  ubc_nn_mae.append(accuracy.mae(predictions))\n",
        "  ubc_nn_rmse.append(accuracy.rmse(predictions))"
      ],
      "execution_count": null,
      "outputs": []
    },
    {
      "cell_type": "code",
      "metadata": {
        "id": "ZFuBeTNQwmiZ"
      },
      "source": [
        "plt.plot(k1,ubc_nn_mae)\n",
        "plt.plot(k1,ubc_nn_rmse)\n",
        "plt.xlabel('Number of Neighbors')\n",
        "plt.ylabel('Testset(MAE & RMSE)')\n",
        "plt.legend(['MAE','RMSE'])\n",
        "plt.title('User-based Collaborative Filtering')\n",
        "plt.show()"
      ],
      "execution_count": null,
      "outputs": []
    },
    {
      "cell_type": "code",
      "metadata": {
        "id": "X2ROauyOxYIO"
      },
      "source": [
        "#Best K\n",
        "k_ubc = ubc_nn_rmse.index(min(ubc_nn_rmse))+1\n",
        "print('Best Value of K : ', k_ubc)\n",
        "print('Minimum RMSE : ', min(ubc_nn_rmse))"
      ],
      "execution_count": null,
      "outputs": []
    },
    {
      "cell_type": "markdown",
      "metadata": {
        "id": "wQgLVI2Zxinb"
      },
      "source": [
        "Item-based CF"
      ]
    },
    {
      "cell_type": "code",
      "metadata": {
        "id": "zeKL-L2SxcmJ"
      },
      "source": [
        "ibc_nn_mae = []\n",
        "ibc_nn_rmse = []\n",
        "for i in k1:\n",
        "  ibc_nn = KNNBasic(k = i, sim_options = {'user_based' : False})\n",
        "  ibc_nn.fit(trainset)\n",
        "  predictions = ibc_nn.test(testset)\n",
        "  ibc_nn_mae.append(accuracy.mae(predictions))\n",
        "  ibc_nn_rmse.append(accuracy.rmse(predictions))"
      ],
      "execution_count": null,
      "outputs": []
    },
    {
      "cell_type": "code",
      "metadata": {
        "id": "Mc8rgNpzxo82"
      },
      "source": [
        "\n",
        "\n",
        "plt.plot(k1,ibc_nn_mae)\n",
        "plt.plot(k1,ibc_nn_rmse)\n",
        "plt.xlabel('Number of Neighbors')\n",
        "plt.ylabel('Testset(MAE & RMSE)')\n",
        "plt.legend(['MAE','RMSE'])\n",
        "plt.title('Item-based Collaborative Filtering')\n",
        "plt.show()\n",
        "\n"
      ],
      "execution_count": null,
      "outputs": []
    },
    {
      "cell_type": "code",
      "metadata": {
        "id": "Q6gV8jyzxzOQ"
      },
      "source": [
        "#Best K\n",
        "k_ibc = ibc_nn_rmse.index(min(ibc_nn_rmse))+1\n",
        "print('Best Value of K : ', k_ibc)\n",
        "print('Minimum RMSE : ', min(ibc_nn_rmse))"
      ],
      "execution_count": null,
      "outputs": []
    }
  ]
}